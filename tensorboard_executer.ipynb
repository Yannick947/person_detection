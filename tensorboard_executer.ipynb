{
 "cells": [
  {
   "cell_type": "code",
   "execution_count": 1,
   "metadata": {
    "colab": {},
    "colab_type": "code",
    "id": "KW6Cre21sZqg"
   },
   "outputs": [
    {
     "name": "stdout",
     "output_type": "stream",
     "text": [
      " Datentr�ger in Laufwerk C: ist Windows\n",
      " Volumeseriennummer: 3E26-A96E\n",
      "\n",
      " Verzeichnis von C:\\Users\\Yannick\\Google Drive\\person_detection\n",
      "\n",
      "03.04.2020  15:55    <DIR>          .\n",
      "03.04.2020  15:55    <DIR>          ..\n",
      "31.03.2020  14:54               103 .gitignore\n",
      "03.04.2020  15:49    <DIR>          .ipynb_checkpoints\n",
      "02.04.2020  12:39    <DIR>          anchor-optimization\n",
      "03.04.2020  12:03    <DIR>          custom_models\n",
      "03.04.2020  14:37            12.282 evaluation.ipynb\n",
      "31.03.2020  14:54         3.957.556 example_carplates_res50_colab.ipynb\n",
      "03.04.2020  15:10    <DIR>          keras-retinanet\n",
      "03.04.2020  15:55            27.265 PersonDetection_res50_widerPerson_colab.ipynb\n",
      "03.04.2020  15:03            84.536 second_train_notebook.ipynb\n",
      "03.04.2020  15:55            44.005 tensorboard_executer.ipynb\n",
      "01.04.2020  16:22    <DIR>          WiderPerson\n",
      "               6 Datei(en),      4.125.747 Bytes\n",
      "               7 Verzeichnis(se), 52.877.987.840 Bytes frei\n",
      "C:\\Users\\Yannick\\Google Drive\\person_detection\\keras-retinanet\n"
     ]
    }
   ],
   "source": [
    "!dir\n",
    "%cd keras-retinanet"
   ]
  },
  {
   "cell_type": "code",
   "execution_count": 4,
   "metadata": {},
   "outputs": [
    {
     "name": "stdout",
     "output_type": "stream",
     "text": [
      "Processing c:\\users\\yannick\\google drive\\person_detection\\keras-retinanet"
     ]
    },
    {
     "name": "stderr",
     "output_type": "stream",
     "text": [
      "  ERROR: Command errored out with exit status 1:\n",
      "   command: 'C:\\Users\\Yannick\\Anaconda3\\envs\\tensorflow\\python.exe' -u -c 'import sys, setuptools, tokenize; sys.argv[0] = '\"'\"'C:\\\\Users\\\\Yannick\\\\AppData\\\\Local\\\\Temp\\\\pip-req-build-mhybcqkx\\\\setup.py'\"'\"'; __file__='\"'\"'C:\\\\Users\\\\Yannick\\\\AppData\\\\Local\\\\Temp\\\\pip-req-build-mhybcqkx\\\\setup.py'\"'\"';f=getattr(tokenize, '\"'\"'open'\"'\"', open)(__file__);code=f.read().replace('\"'\"'\\r\\n'\"'\"', '\"'\"'\\n'\"'\"');f.close();exec(compile(code, __file__, '\"'\"'exec'\"'\"'))' bdist_wheel -d 'C:\\Users\\Yannick\\AppData\\Local\\Temp\\pip-wheel-p1lsdypu'\n",
      "       cwd: C:\\Users\\Yannick\\AppData\\Local\\Temp\\pip-req-build-mhybcqkx\\\n",
      "  Complete output (90 lines):\n",
      "  running bdist_wheel\n",
      "  running build\n",
      "  running build_py\n",
      "  creating build\\lib.win-amd64-3.7\n",
      "  creating build\\lib.win-amd64-3.7\\keras_retinanet\n",
      "  copying keras_retinanet\\initializers.py -> build\\lib.win-amd64-3.7\\keras_retinanet\n",
      "  copying keras_retinanet\\losses.py -> build\\lib.win-amd64-3.7\\keras_retinanet\n",
      "  copying keras_retinanet\\__init__.py -> build\\lib.win-amd64-3.7\\keras_retinanet\n",
      "  creating build\\lib.win-amd64-3.7\\tests\n",
      "  copying tests\\test_losses.py -> build\\lib.win-amd64-3.7\\tests\n",
      "  copying tests\\__init__.py -> build\\lib.win-amd64-3.7\\tests\n",
      "  creating build\\lib.win-amd64-3.7\\keras_retinanet\\backend\n",
      "  copying keras_retinanet\\backend\\cntk_backend.py -> build\\lib.win-amd64-3.7\\keras_retinanet\\backend\n",
      "  copying keras_retinanet\\backend\\common.py -> build\\lib.win-amd64-3.7\\keras_retinanet\\backend\n",
      "  copying keras_retinanet\\backend\\dynamic.py -> build\\lib.win-amd64-3.7\\keras_retinanet\\backend\n",
      "  copying keras_retinanet\\backend\\tensorflow_backend.py -> build\\lib.win-amd64-3.7\\keras_retinanet\\backend\n",
      "  copying keras_retinanet\\backend\\theano_backend.py -> build\\lib.win-amd64-3.7\\keras_retinanet\\backend\n",
      "  copying keras_retinanet\\backend\\__init__.py -> build\\lib.win-amd64-3.7\\keras_retinanet\\backend\n",
      "  creating build\\lib.win-amd64-3.7\\keras_retinanet\\bin\n",
      "  copying keras_retinanet\\bin\\convert_model.py -> build\\lib.win-amd64-3.7\\keras_retinanet\\bin\n",
      "  copying keras_retinanet\\bin\\debug.py -> build\\lib.win-amd64-3.7\\keras_retinanet\\bin\n",
      "  copying keras_retinanet\\bin\\evaluate.py -> build\\lib.win-amd64-3.7\\keras_retinanet\\bin\n",
      "  copying keras_retinanet\\bin\\train.py -> build\\lib.win-amd64-3.7\\keras_retinanet\\bin\n",
      "  copying keras_retinanet\\bin\\__init__.py -> build\\lib.win-amd64-3.7\\keras_retinanet\\bin\n",
      "  creating build\\lib.win-amd64-3.7\\keras_retinanet\\callbacks\n",
      "  copying keras_retinanet\\callbacks\\coco.py -> build\\lib.win-amd64-3.7\\keras_retinanet\\callbacks\n",
      "  copying keras_retinanet\\callbacks\\common.py -> build\\lib.win-amd64-3.7\\keras_retinanet\\callbacks\n",
      "  copying keras_retinanet\\callbacks\\eval.py -> build\\lib.win-amd64-3.7\\keras_retinanet\\callbacks\n",
      "  copying keras_retinanet\\callbacks\\__init__.py -> build\\lib.win-amd64-3.7\\keras_retinanet\\callbacks\n",
      "  creating build\\lib.win-amd64-3.7\\keras_retinanet\\layers\n",
      "  copying keras_retinanet\\layers\\filter_detections.py -> build\\lib.win-amd64-3.7\\keras_retinanet\\layers\n",
      "  copying keras_retinanet\\layers\\_misc.py -> build\\lib.win-amd64-3.7\\keras_retinanet\\layers\n",
      "  copying keras_retinanet\\layers\\__init__.py -> build\\lib.win-amd64-3.7\\keras_retinanet\\layers\n",
      "  creating build\\lib.win-amd64-3.7\\keras_retinanet\\models\n",
      "  copying keras_retinanet\\models\\densenet.py -> build\\lib.win-amd64-3.7\\keras_retinanet\\models\n",
      "  copying keras_retinanet\\models\\effnet.py -> build\\lib.win-amd64-3.7\\keras_retinanet\\models\n",
      "  copying keras_retinanet\\models\\mobilenet.py -> build\\lib.win-amd64-3.7\\keras_retinanet\\models\n",
      "  copying keras_retinanet\\models\\resnet.py -> build\\lib.win-amd64-3.7\\keras_retinanet\\models\n",
      "  copying keras_retinanet\\models\\retinanet.py -> build\\lib.win-amd64-3.7\\keras_retinanet\\models\n",
      "  copying keras_retinanet\\models\\senet.py -> build\\lib.win-amd64-3.7\\keras_retinanet\\models\n",
      "  copying keras_retinanet\\models\\vgg.py -> build\\lib.win-amd64-3.7\\keras_retinanet\\models\n",
      "  copying keras_retinanet\\models\\__init__.py -> build\\lib.win-amd64-3.7\\keras_retinanet\\models\n",
      "  creating build\\lib.win-amd64-3.7\\keras_retinanet\\preprocessing\n",
      "  copying keras_retinanet\\preprocessing\\coco.py -> build\\lib.win-amd64-3.7\\keras_retinanet\\preprocessing\n",
      "  copying keras_retinanet\\preprocessing\\csv_generator.py -> build\\lib.win-amd64-3.7\\keras_retinanet\\preprocessing\n",
      "  copying keras_retinanet\\preprocessing\\generator.py -> build\\lib.win-amd64-3.7\\keras_retinanet\\preprocessing\n",
      "  copying keras_retinanet\\preprocessing\\kitti.py -> build\\lib.win-amd64-3.7\\keras_retinanet\\preprocessing\n",
      "  copying keras_retinanet\\preprocessing\\open_images.py -> build\\lib.win-amd64-3.7\\keras_retinanet\\preprocessing\n",
      "  copying keras_retinanet\\preprocessing\\pascal_voc.py -> build\\lib.win-amd64-3.7\\keras_retinanet\\preprocessing\n",
      "  copying keras_retinanet\\preprocessing\\__init__.py -> build\\lib.win-amd64-3.7\\keras_retinanet\\preprocessing\n",
      "  creating build\\lib.win-amd64-3.7\\keras_retinanet\\utils\n",
      "  copying keras_retinanet\\utils\\anchors.py -> build\\lib.win-amd64-3.7\\keras_retinanet\\utils\n",
      "  copying keras_retinanet\\utils\\coco_eval.py -> build\\lib.win-amd64-3.7\\keras_retinanet\\utils\n",
      "  copying keras_retinanet\\utils\\colors.py -> build\\lib.win-amd64-3.7\\keras_retinanet\\utils\n",
      "  copying keras_retinanet\\utils\\config.py -> build\\lib.win-amd64-3.7\\keras_retinanet\\utils\n",
      "  copying keras_retinanet\\utils\\eval.py -> build\\lib.win-amd64-3.7\\keras_retinanet\\utils\n",
      "  copying keras_retinanet\\utils\\gpu.py -> build\\lib.win-amd64-3.7\\keras_retinanet\\utils\n",
      "  copying keras_retinanet\\utils\\image.py -> build\\lib.win-amd64-3.7\\keras_retinanet\\utils\n",
      "  copying keras_retinanet\\utils\\keras_version.py -> build\\lib.win-amd64-3.7\\keras_retinanet\\utils\n",
      "  copying keras_retinanet\\utils\\model.py -> build\\lib.win-amd64-3.7\\keras_retinanet\\utils\n",
      "  copying keras_retinanet\\utils\\tf_version.py -> build\\lib.win-amd64-3.7\\keras_retinanet\\utils\n",
      "  copying keras_retinanet\\utils\\transform.py -> build\\lib.win-amd64-3.7\\keras_retinanet\\utils\n",
      "  copying keras_retinanet\\utils\\visualization.py -> build\\lib.win-amd64-3.7\\keras_retinanet\\utils\n",
      "  copying keras_retinanet\\utils\\__init__.py -> build\\lib.win-amd64-3.7\\keras_retinanet\\utils\n",
      "  creating build\\lib.win-amd64-3.7\\tests\\backend\n",
      "  copying tests\\backend\\test_common.py -> build\\lib.win-amd64-3.7\\tests\\backend\n",
      "  copying tests\\backend\\__init__.py -> build\\lib.win-amd64-3.7\\tests\\backend\n",
      "  creating build\\lib.win-amd64-3.7\\tests\\layers\n",
      "  copying tests\\layers\\test_filter_detections.py -> build\\lib.win-amd64-3.7\\tests\\layers\n",
      "  copying tests\\layers\\test_misc.py -> build\\lib.win-amd64-3.7\\tests\\layers\n",
      "  copying tests\\layers\\__init__.py -> build\\lib.win-amd64-3.7\\tests\\layers\n",
      "  creating build\\lib.win-amd64-3.7\\tests\\models\n",
      "  copying tests\\models\\test_densenet.py -> build\\lib.win-amd64-3.7\\tests\\models\n",
      "  copying tests\\models\\test_mobilenet.py -> build\\lib.win-amd64-3.7\\tests\\models\n",
      "  copying tests\\models\\__init__.py -> build\\lib.win-amd64-3.7\\tests\\models\n",
      "  creating build\\lib.win-amd64-3.7\\tests\\preprocessing\n",
      "  copying tests\\preprocessing\\test_csv_generator.py -> build\\lib.win-amd64-3.7\\tests\\preprocessing\n",
      "  copying tests\\preprocessing\\test_generator.py -> build\\lib.win-amd64-3.7\\tests\\preprocessing\n",
      "  copying tests\\preprocessing\\__init__.py -> build\\lib.win-amd64-3.7\\tests\\preprocessing\n",
      "  creating build\\lib.win-amd64-3.7\\tests\\utils\n",
      "  copying tests\\utils\\test_anchors.py -> build\\lib.win-amd64-3.7\\tests\\utils\n",
      "  copying tests\\utils\\test_transform.py -> build\\lib.win-amd64-3.7\\tests\\utils\n",
      "  copying tests\\utils\\__init__.py -> build\\lib.win-amd64-3.7\\tests\\utils\n",
      "  running build_ext\n",
      "  skipping 'keras_retinanet/utils\\compute_overlap.c' Cython extension (up-to-date)\n",
      "  building 'keras_retinanet.utils.compute_overlap' extension\n",
      "  C:\\Program Files (x86)\\Microsoft Visual Studio 14.0\\VC\\BIN\\x86_amd64\\cl.exe /c /nologo /Ox /W3 /GL /DNDEBUG /MD -IC:\\Users\\Yannick\\Anaconda3\\envs\\tensorflow\\include -IC:\\Users\\Yannick\\Anaconda3\\envs\\tensorflow\\include -IC:\\Users\\Yannick\\Anaconda3\\envs\\tensorflow\\lib\\site-packages\\numpy\\core\\include \"-IC:\\Program Files (x86)\\Microsoft Visual Studio 14.0\\VC\\INCLUDE\" \"-IC:\\Program Files (x86)\\Microsoft Visual Studio 14.0\\VC\\ATLMFC\\INCLUDE\" \"-IC:\\Program Files (x86)\\Windows Kits\\10\\include\\10.0.10240.0\\ucrt\" /Tckeras_retinanet/utils\\compute_overlap.c /Fobuild\\temp.win-amd64-3.7\\Release\\keras_retinanet/utils\\compute_overlap.obj\n",
      "  compute_overlap.c\n",
      "  c:\\users\\yannick\\anaconda3\\envs\\tensorflow\\include\\pyconfig.h(203): fatal error C1083: Datei (Include) kann nicht ge”ffnet werden: \"basetsd.h\": No such file or directory\n",
      "  error: command 'C:\\\\Program Files (x86)\\\\Microsoft Visual Studio 14.0\\\\VC\\\\BIN\\\\x86_amd64\\\\cl.exe' failed with exit status 2\n",
      "  ----------------------------------------\n",
      "  ERROR: Failed building wheel for keras-retinanet\n",
      "    ERROR: Command errored out with exit status 1:\n",
      "     command: 'C:\\Users\\Yannick\\Anaconda3\\envs\\tensorflow\\python.exe' -u -c 'import sys, setuptools, tokenize; sys.argv[0] = '\"'\"'C:\\\\Users\\\\Yannick\\\\AppData\\\\Local\\\\Temp\\\\pip-req-build-mhybcqkx\\\\setup.py'\"'\"'; __file__='\"'\"'C:\\\\Users\\\\Yannick\\\\AppData\\\\Local\\\\Temp\\\\pip-req-build-mhybcqkx\\\\setup.py'\"'\"';f=getattr(tokenize, '\"'\"'open'\"'\"', open)(__file__);code=f.read().replace('\"'\"'\\r\\n'\"'\"', '\"'\"'\\n'\"'\"');f.close();exec(compile(code, __file__, '\"'\"'exec'\"'\"'))' install --record 'C:\\Users\\Yannick\\AppData\\Local\\Temp\\pip-record-9ttns0ny\\install-record.txt' --single-version-externally-managed --compile --install-headers 'C:\\Users\\Yannick\\Anaconda3\\envs\\tensorflow\\Include\\keras-retinanet'\n",
      "         cwd: C:\\Users\\Yannick\\AppData\\Local\\Temp\\pip-req-build-mhybcqkx\\\n",
      "    Complete output (94 lines):\n",
      "    running install\n",
      "    running build\n",
      "    running build_py\n",
      "    creating build\\lib.win-amd64-3.7\n",
      "    creating build\\lib.win-amd64-3.7\\keras_retinanet\n",
      "    copying keras_retinanet\\initializers.py -> build\\lib.win-amd64-3.7\\keras_retinanet\n",
      "    copying keras_retinanet\\losses.py -> build\\lib.win-amd64-3.7\\keras_retinanet\n",
      "    copying keras_retinanet\\__init__.py -> build\\lib.win-amd64-3.7\\keras_retinanet\n",
      "    creating build\\lib.win-amd64-3.7\\tests\n",
      "    copying tests\\test_losses.py -> build\\lib.win-amd64-3.7\\tests\n",
      "    copying tests\\__init__.py -> build\\lib.win-amd64-3.7\\tests\n",
      "    creating build\\lib.win-amd64-3.7\\keras_retinanet\\backend\n",
      "    copying keras_retinanet\\backend\\cntk_backend.py -> build\\lib.win-amd64-3.7\\keras_retinanet\\backend\n",
      "    copying keras_retinanet\\backend\\common.py -> build\\lib.win-amd64-3.7\\keras_retinanet\\backend\n",
      "    copying keras_retinanet\\backend\\dynamic.py -> build\\lib.win-amd64-3.7\\keras_retinanet\\backend\n",
      "    copying keras_retinanet\\backend\\tensorflow_backend.py -> build\\lib.win-amd64-3.7\\keras_retinanet\\backend\n",
      "    copying keras_retinanet\\backend\\theano_backend.py -> build\\lib.win-amd64-3.7\\keras_retinanet\\backend\n",
      "    copying keras_retinanet\\backend\\__init__.py -> build\\lib.win-amd64-3.7\\keras_retinanet\\backend\n",
      "    creating build\\lib.win-amd64-3.7\\keras_retinanet\\bin\n",
      "    copying keras_retinanet\\bin\\convert_model.py -> build\\lib.win-amd64-3.7\\keras_retinanet\\bin\n",
      "    copying keras_retinanet\\bin\\debug.py -> build\\lib.win-amd64-3.7\\keras_retinanet\\bin\n",
      "    copying keras_retinanet\\bin\\evaluate.py -> build\\lib.win-amd64-3.7\\keras_retinanet\\bin\n",
      "    copying keras_retinanet\\bin\\train.py -> build\\lib.win-amd64-3.7\\keras_retinanet\\bin\n",
      "    copying keras_retinanet\\bin\\__init__.py -> build\\lib.win-amd64-3.7\\keras_retinanet\\bin\n",
      "    creating build\\lib.win-amd64-3.7\\keras_retinanet\\callbacks\n",
      "    copying keras_retinanet\\callbacks\\coco.py -> build\\lib.win-amd64-3.7\\keras_retinanet\\callbacks\n",
      "    copying keras_retinanet\\callbacks\\common.py -> build\\lib.win-amd64-3.7\\keras_retinanet\\callbacks\n",
      "    copying keras_retinanet\\callbacks\\eval.py -> build\\lib.win-amd64-3.7\\keras_retinanet\\callbacks\n",
      "    copying keras_retinanet\\callbacks\\__init__.py -> build\\lib.win-amd64-3.7\\keras_retinanet\\callbacks\n",
      "    creating build\\lib.win-amd64-3.7\\keras_retinanet\\layers\n",
      "    copying keras_retinanet\\layers\\filter_detections.py -> build\\lib.win-amd64-3.7\\keras_retinanet\\layers\n",
      "    copying keras_retinanet\\layers\\_misc.py -> build\\lib.win-amd64-3.7\\keras_retinanet\\layers\n",
      "    copying keras_retinanet\\layers\\__init__.py -> build\\lib.win-amd64-3.7\\keras_retinanet\\layers\n",
      "    creating build\\lib.win-amd64-3.7\\keras_retinanet\\models\n",
      "    copying keras_retinanet\\models\\densenet.py -> build\\lib.win-amd64-3.7\\keras_retinanet\\models\n",
      "    copying keras_retinanet\\models\\effnet.py -> build\\lib.win-amd64-3.7\\keras_retinanet\\models\n",
      "    copying keras_retinanet\\models\\mobilenet.py -> build\\lib.win-amd64-3.7\\keras_retinanet\\models\n",
      "    copying keras_retinanet\\models\\resnet.py -> build\\lib.win-amd64-3.7\\keras_retinanet\\models\n",
      "    copying keras_retinanet\\models\\retinanet.py -> build\\lib.win-amd64-3.7\\keras_retinanet\\models\n",
      "    copying keras_retinanet\\models\\senet.py -> build\\lib.win-amd64-3.7\\keras_retinanet\\models\n",
      "    copying keras_retinanet\\models\\vgg.py -> build\\lib.win-amd64-3.7\\keras_retinanet\\models\n",
      "    copying keras_retinanet\\models\\__init__.py -> build\\lib.win-amd64-3.7\\keras_retinanet\\models\n",
      "    creating build\\lib.win-amd64-3.7\\keras_retinanet\\preprocessing\n",
      "    copying keras_retinanet\\preprocessing\\coco.py -> build\\lib.win-amd64-3.7\\keras_retinanet\\preprocessing\n",
      "    copying keras_retinanet\\preprocessing\\csv_generator.py -> build\\lib.win-amd64-3.7\\keras_retinanet\\preprocessing\n",
      "    copying keras_retinanet\\preprocessing\\generator.py -> build\\lib.win-amd64-3.7\\keras_retinanet\\preprocessing\n",
      "    copying keras_retinanet\\preprocessing\\kitti.py -> build\\lib.win-amd64-3.7\\keras_retinanet\\preprocessing\n",
      "    copying keras_retinanet\\preprocessing\\open_images.py -> build\\lib.win-amd64-3.7\\keras_retinanet\\preprocessing\n",
      "    copying keras_retinanet\\preprocessing\\pascal_voc.py -> build\\lib.win-amd64-3.7\\keras_retinanet\\preprocessing\n",
      "    copying keras_retinanet\\preprocessing\\__init__.py -> build\\lib.win-amd64-3.7\\keras_retinanet\\preprocessing\n",
      "    creating build\\lib.win-amd64-3.7\\keras_retinanet\\utils\n",
      "    copying keras_retinanet\\utils\\anchors.py -> build\\lib.win-amd64-3.7\\keras_retinanet\\utils\n",
      "    copying keras_retinanet\\utils\\coco_eval.py -> build\\lib.win-amd64-3.7\\keras_retinanet\\utils\n",
      "    copying keras_retinanet\\utils\\colors.py -> build\\lib.win-amd64-3.7\\keras_retinanet\\utils\n",
      "    copying keras_retinanet\\utils\\config.py -> build\\lib.win-amd64-3.7\\keras_retinanet\\utils\n",
      "    copying keras_retinanet\\utils\\eval.py -> build\\lib.win-amd64-3.7\\keras_retinanet\\utils\n",
      "    copying keras_retinanet\\utils\\gpu.py -> build\\lib.win-amd64-3.7\\keras_retinanet\\utils\n",
      "    copying keras_retinanet\\utils\\image.py -> build\\lib.win-amd64-3.7\\keras_retinanet\\utils\n",
      "    copying keras_retinanet\\utils\\keras_version.py -> build\\lib.win-amd64-3.7\\keras_retinanet\\utils\n",
      "    copying keras_retinanet\\utils\\model.py -> build\\lib.win-amd64-3.7\\keras_retinanet\\utils\n",
      "    copying keras_retinanet\\utils\\tf_version.py -> build\\lib.win-amd64-3.7\\keras_retinanet\\utils\n",
      "    copying keras_retinanet\\utils\\transform.py -> build\\lib.win-amd64-3.7\\keras_retinanet\\utils\n",
      "    copying keras_retinanet\\utils\\visualization.py -> build\\lib.win-amd64-3.7\\keras_retinanet\\utils\n"
     ]
    },
    {
     "name": "stdout",
     "output_type": "stream",
     "text": [
      "\n",
      "Requirement already satisfied: keras in c:\\users\\yannick\\anaconda3\\envs\\tensorflow\\lib\\site-packages (from keras-retinanet==0.5.1) (2.3.1)\n",
      "Requirement already satisfied: keras-resnet==0.1.0 in c:\\users\\yannick\\anaconda3\\envs\\tensorflow\\lib\\site-packages (from keras-retinanet==0.5.1) (0.1.0)\n",
      "Requirement already satisfied: six in c:\\users\\yannick\\anaconda3\\envs\\tensorflow\\lib\\site-packages (from keras-retinanet==0.5.1) (1.14.0)\n",
      "Requirement already satisfied: scipy in c:\\users\\yannick\\anaconda3\\envs\\tensorflow\\lib\\site-packages (from keras-retinanet==0.5.1) (1.4.1)\n",
      "Requirement already satisfied: cython in c:\\users\\yannick\\anaconda3\\envs\\tensorflow\\lib\\site-packages (from keras-retinanet==0.5.1) (0.29.16)\n",
      "Requirement already satisfied: Pillow in c:\\users\\yannick\\anaconda3\\envs\\tensorflow\\lib\\site-packages (from keras-retinanet==0.5.1) (7.0.0)\n",
      "Requirement already satisfied: opencv-python in c:\\users\\yannick\\anaconda3\\envs\\tensorflow\\lib\\site-packages (from keras-retinanet==0.5.1) (4.2.0.32)\n",
      "Requirement already satisfied: progressbar2 in c:\\users\\yannick\\anaconda3\\envs\\tensorflow\\lib\\site-packages (from keras-retinanet==0.5.1) (3.50.1)\n",
      "Requirement already satisfied: pyyaml in c:\\users\\yannick\\anaconda3\\envs\\tensorflow\\lib\\site-packages (from keras->keras-retinanet==0.5.1) (5.3.1)\n",
      "Requirement already satisfied: h5py in c:\\users\\yannick\\anaconda3\\envs\\tensorflow\\lib\\site-packages (from keras->keras-retinanet==0.5.1) (2.10.0)\n",
      "Requirement already satisfied: keras-preprocessing>=1.0.5 in c:\\users\\yannick\\anaconda3\\envs\\tensorflow\\lib\\site-packages (from keras->keras-retinanet==0.5.1) (1.1.0)\n",
      "Requirement already satisfied: numpy>=1.9.1 in c:\\users\\yannick\\anaconda3\\envs\\tensorflow\\lib\\site-packages (from keras->keras-retinanet==0.5.1) (1.18.2)\n",
      "Requirement already satisfied: keras-applications>=1.0.6 in c:\\users\\yannick\\anaconda3\\envs\\tensorflow\\lib\\site-packages (from keras->keras-retinanet==0.5.1) (1.0.8)\n",
      "Requirement already satisfied: python-utils>=2.3.0 in c:\\users\\yannick\\anaconda3\\envs\\tensorflow\\lib\\site-packages (from progressbar2->keras-retinanet==0.5.1) (2.4.0)\n",
      "Building wheels for collected packages: keras-retinanet\n",
      "  Building wheel for keras-retinanet (setup.py): started\n",
      "  Building wheel for keras-retinanet (setup.py): finished with status 'error'\n",
      "  Running setup.py clean for keras-retinanet\n",
      "Failed to build keras-retinanet\n",
      "Installing collected packages: keras-retinanet\n",
      "    Running setup.py install for keras-retinanet: started\n",
      "    Running setup.py install for keras-retinanet: finished with status 'error'\n"
     ]
    },
    {
     "name": "stderr",
     "output_type": "stream",
     "text": [
      "    copying keras_retinanet\\utils\\__init__.py -> build\\lib.win-amd64-3.7\\keras_retinanet\\utils\n",
      "    creating build\\lib.win-amd64-3.7\\tests\\backend\n",
      "    copying tests\\backend\\test_common.py -> build\\lib.win-amd64-3.7\\tests\\backend\n",
      "    copying tests\\backend\\__init__.py -> build\\lib.win-amd64-3.7\\tests\\backend\n",
      "    creating build\\lib.win-amd64-3.7\\tests\\layers\n",
      "    copying tests\\layers\\test_filter_detections.py -> build\\lib.win-amd64-3.7\\tests\\layers\n",
      "    copying tests\\layers\\test_misc.py -> build\\lib.win-amd64-3.7\\tests\\layers\n",
      "    copying tests\\layers\\__init__.py -> build\\lib.win-amd64-3.7\\tests\\layers\n",
      "    creating build\\lib.win-amd64-3.7\\tests\\models\n",
      "    copying tests\\models\\test_densenet.py -> build\\lib.win-amd64-3.7\\tests\\models\n",
      "    copying tests\\models\\test_mobilenet.py -> build\\lib.win-amd64-3.7\\tests\\models\n",
      "    copying tests\\models\\__init__.py -> build\\lib.win-amd64-3.7\\tests\\models\n",
      "    creating build\\lib.win-amd64-3.7\\tests\\preprocessing\n",
      "    copying tests\\preprocessing\\test_csv_generator.py -> build\\lib.win-amd64-3.7\\tests\\preprocessing\n",
      "    copying tests\\preprocessing\\test_generator.py -> build\\lib.win-amd64-3.7\\tests\\preprocessing\n",
      "    copying tests\\preprocessing\\__init__.py -> build\\lib.win-amd64-3.7\\tests\\preprocessing\n",
      "    creating build\\lib.win-amd64-3.7\\tests\\utils\n",
      "    copying tests\\utils\\test_anchors.py -> build\\lib.win-amd64-3.7\\tests\\utils\n",
      "    copying tests\\utils\\test_transform.py -> build\\lib.win-amd64-3.7\\tests\\utils\n",
      "    copying tests\\utils\\__init__.py -> build\\lib.win-amd64-3.7\\tests\\utils\n",
      "    running build_ext\n",
      "    skipping 'keras_retinanet/utils\\compute_overlap.c' Cython extension (up-to-date)\n",
      "    building 'keras_retinanet.utils.compute_overlap' extension\n",
      "    creating build\\temp.win-amd64-3.7\n",
      "    creating build\\temp.win-amd64-3.7\\Release\n",
      "    creating build\\temp.win-amd64-3.7\\Release\\keras_retinanet\n",
      "    creating build\\temp.win-amd64-3.7\\Release\\keras_retinanet\\utils\n",
      "    C:\\Program Files (x86)\\Microsoft Visual Studio 14.0\\VC\\BIN\\x86_amd64\\cl.exe /c /nologo /Ox /W3 /GL /DNDEBUG /MD -IC:\\Users\\Yannick\\Anaconda3\\envs\\tensorflow\\include -IC:\\Users\\Yannick\\Anaconda3\\envs\\tensorflow\\include -IC:\\Users\\Yannick\\Anaconda3\\envs\\tensorflow\\lib\\site-packages\\numpy\\core\\include \"-IC:\\Program Files (x86)\\Microsoft Visual Studio 14.0\\VC\\INCLUDE\" \"-IC:\\Program Files (x86)\\Microsoft Visual Studio 14.0\\VC\\ATLMFC\\INCLUDE\" \"-IC:\\Program Files (x86)\\Windows Kits\\10\\include\\10.0.10240.0\\ucrt\" /Tckeras_retinanet/utils\\compute_overlap.c /Fobuild\\temp.win-amd64-3.7\\Release\\keras_retinanet/utils\\compute_overlap.obj\n",
      "    compute_overlap.c\n",
      "    c:\\users\\yannick\\anaconda3\\envs\\tensorflow\\include\\pyconfig.h(203): fatal error C1083: Datei (Include) kann nicht ge”ffnet werden: \"basetsd.h\": No such file or directory\n",
      "    error: command 'C:\\\\Program Files (x86)\\\\Microsoft Visual Studio 14.0\\\\VC\\\\BIN\\\\x86_amd64\\\\cl.exe' failed with exit status 2\n",
      "    ----------------------------------------\n",
      "ERROR: Command errored out with exit status 1: 'C:\\Users\\Yannick\\Anaconda3\\envs\\tensorflow\\python.exe' -u -c 'import sys, setuptools, tokenize; sys.argv[0] = '\"'\"'C:\\\\Users\\\\Yannick\\\\AppData\\\\Local\\\\Temp\\\\pip-req-build-mhybcqkx\\\\setup.py'\"'\"'; __file__='\"'\"'C:\\\\Users\\\\Yannick\\\\AppData\\\\Local\\\\Temp\\\\pip-req-build-mhybcqkx\\\\setup.py'\"'\"';f=getattr(tokenize, '\"'\"'open'\"'\"', open)(__file__);code=f.read().replace('\"'\"'\\r\\n'\"'\"', '\"'\"'\\n'\"'\"');f.close();exec(compile(code, __file__, '\"'\"'exec'\"'\"'))' install --record 'C:\\Users\\Yannick\\AppData\\Local\\Temp\\pip-record-9ttns0ny\\install-record.txt' --single-version-externally-managed --compile --install-headers 'C:\\Users\\Yannick\\Anaconda3\\envs\\tensorflow\\Include\\keras-retinanet' Check the logs for full command output.\n"
     ]
    },
    {
     "name": "stdout",
     "output_type": "stream",
     "text": [
      "running build_ext\n",
      "skipping 'keras_retinanet/utils\\compute_overlap.c' Cython extension (up-to-date)\n",
      "building 'keras_retinanet.utils.compute_overlap' extension\n",
      "C:\\Program Files (x86)\\Microsoft Visual Studio 14.0\\VC\\BIN\\x86_amd64\\cl.exe /c /nologo /Ox /W3 /GL /DNDEBUG /MD -IC:\\Users\\Yannick\\Anaconda3\\envs\\tensorflow\\include -IC:\\Users\\Yannick\\Anaconda3\\envs\\tensorflow\\include -IC:\\Users\\Yannick\\Anaconda3\\envs\\tensorflow\\lib\\site-packages\\numpy\\core\\include \"-IC:\\Program Files (x86)\\Microsoft Visual Studio 14.0\\VC\\INCLUDE\" \"-IC:\\Program Files (x86)\\Microsoft Visual Studio 14.0\\VC\\ATLMFC\\INCLUDE\" \"-IC:\\Program Files (x86)\\Windows Kits\\10\\include\\10.0.10240.0\\ucrt\" /Tckeras_retinanet/utils\\compute_overlap.c /Fobuild\\temp.win-amd64-3.7\\Release\\keras_retinanet/utils\\compute_overlap.obj\n",
      "compute_overlap.c\n",
      "c:\\users\\yannick\\anaconda3\\envs\\tensorflow\\include\\pyconfig.h(203): fatal error C1083: Datei (Include) kann nicht ge�ffnet werden: \"basetsd.h\": No such file or directory\n"
     ]
    },
    {
     "name": "stderr",
     "output_type": "stream",
     "text": [
      "error: command 'C:\\\\Program Files (x86)\\\\Microsoft Visual Studio 14.0\\\\VC\\\\BIN\\\\x86_amd64\\\\cl.exe' failed with exit status 2\n"
     ]
    }
   ],
   "source": [
    "!pip install .\n",
    "!python setup.py build_ext --inplace\n"
   ]
  },
  {
   "cell_type": "code",
   "execution_count": 9,
   "metadata": {
    "colab": {
     "base_uri": "https://localhost:8080/",
     "height": 401
    },
    "colab_type": "code",
    "executionInfo": {
     "elapsed": 3395,
     "status": "error",
     "timestamp": 1585921524018,
     "user": {
      "displayName": "horst hammer",
      "photoUrl": "",
      "userId": "16387219538505432860"
     },
     "user_tz": -120
    },
    "id": "R3NuDVJVl-NU",
    "outputId": "51d547a7-3172-47a1-c666-db8141b6026d"
   },
   "outputs": [],
   "source": [
    "import numpy as np\n",
    "import tensorflow as tf\n",
    "import pandas as pd\n",
    "import seaborn as sns\n",
    "from pylab import rcParams\n",
    "import matplotlib.pyplot as plt\n",
    "from matplotlib import rc\n",
    "from pandas.plotting import register_matplotlib_converters\n",
    "from sklearn.model_selection import train_test_split\n",
    "from tensorflow.keras.callbacks import TensorBoard\n",
    "import urllib\n",
    "import os\n",
    "import csv\n",
    "import cv2\n",
    "import time\n",
    "from PIL import Image\n",
    "from IPython.core.debugger import set_trace\n",
    "import shutil\n",
    "\n",
    "import pdb\n",
    "\n",
    "from keras_retinanet import models\n",
    "from keras_retinanet.utils.image import read_image_bgr, preprocess_image, resize_image\n",
    "from keras_retinanet.utils.visualization import draw_box, draw_caption\n",
    "from keras_retinanet.utils.colors import label_color\n",
    "\n",
    "\n",
    "%matplotlib inline\n",
    "%config InlineBackend.figure_format='retina'\n",
    "\n",
    "register_matplotlib_converters()\n",
    "sns.set(style='whitegrid', palette='muted', font_scale=1.5)\n",
    "\n",
    "rcParams['figure.figsize'] = 22, 10\n",
    "\n",
    "RANDOM_SEED = 42\n",
    "\n",
    "np.random.seed(RANDOM_SEED)\n",
    "tf.random.set_seed(RANDOM_SEED)\n"
   ]
  },
  {
   "cell_type": "code",
   "execution_count": null,
   "metadata": {
    "colab": {},
    "colab_type": "code",
    "id": "qwj5sdGLut2c"
   },
   "outputs": [],
   "source": [
    "annot_path = '/content/drive/My Drive/person_detection/WiderPerson/Annotations'\n",
    "images_path = '/content/drive/My Drive/person_detection/WiderPerson/Images'\n",
    "annot_csv_path = '/content/drive/My Drive/person_detection/keras-retinanet/annotations_new.csv'\n",
    "keras_path = '/content/drive/My Drive/person_detection/keras-retinanet'\n",
    "#Remove classes which shall be left out in the csv\n",
    "classes_ids = {1:'pedestrian',\n",
    "               2:'riders',\n",
    "               3:'partially-visible',\n",
    "               5:'crowd'}"
   ]
  },
  {
   "cell_type": "markdown",
   "metadata": {
    "colab_type": "text",
    "id": "J8LEtNbNn7Ri"
   },
   "source": [
    "# Training\n",
    "\n"
   ]
  },
  {
   "cell_type": "code",
   "execution_count": null,
   "metadata": {
    "colab": {},
    "colab_type": "code",
    "id": "gdjT9rVEn-Vv"
   },
   "outputs": [],
   "source": [
    "#TODO: Make it also work for bigger architecture:\"/fizyr/keras-retinanet/releases/download/0.5.1/resnet152_oid_v1.0.0.h5\""
   ]
  },
  {
   "cell_type": "code",
   "execution_count": null,
   "metadata": {
    "colab": {},
    "colab_type": "code",
    "id": "A-DO3mGwqq0i"
   },
   "outputs": [],
   "source": [
    "PRETRAINED_MODEL_VANILLA = './snapshots/_pretrained_model.h5'\n",
    "PRETRAINED_MODEL_WI = '../custom_models/resnet50_e15_b8_s1000_train_0304.h5'\n",
    "  "
   ]
  },
  {
   "cell_type": "code",
   "execution_count": null,
   "metadata": {
    "colab": {},
    "colab_type": "code",
    "id": "NR2UdMesqoMN"
   },
   "outputs": [],
   "source": [
    "%cd /content/drive/My Drive/person_detection/keras-retinanet\n",
    "!python keras_retinanet/bin/train.py  --image-min-side=400 \\\n",
    "                                      --image-max-side=1000 \\\n",
    "                                      --tensorboard-dir '' \\\n",
    "                                      --freeze-backbone \\\n",
    "                                      --weights {PRETRAINED_MODEL_VANILLA} \\\n",
    "                                      --lr 1e-11 \\\n",
    "                                      --batch-size 8 \\\n",
    "                                      --steps 1000 \\\n",
    "                                      --epochs 10 \\\n",
    "                                      csv annot_train_filtered_450_2000.csv classes.csv \\\n",
    "                                      #'--imagenet-weights'\n",
    "                                      # --snapshot {PRETRAINED_MODEL_VANILLA} \\\n",
    "                                    # --val-annotations annot_test.csv \\\n",
    "                                    # --compute-val-loss \\\n",
    "                                    # --random-transform \\\n",
    "\n",
    "%cd ../../../../../"
   ]
  },
  {
   "cell_type": "markdown",
   "metadata": {
    "colab_type": "text",
    "id": "MdEIYFDntAzw"
   },
   "source": [
    "## Debugging"
   ]
  },
  {
   "cell_type": "code",
   "execution_count": null,
   "metadata": {
    "colab": {
     "base_uri": "https://localhost:8080/",
     "height": 139
    },
    "colab_type": "code",
    "executionInfo": {
     "elapsed": 1293667,
     "status": "ok",
     "timestamp": 1585914653024,
     "user": {
      "displayName": "horst hammer",
      "photoUrl": "",
      "userId": "16387219538505432860"
     },
     "user_tz": -120
    },
    "id": "PKacEUM2tAOw",
    "outputId": "02f4867c-19ea-4465-de48-2b6078f1dc17"
   },
   "outputs": [
    {
     "name": "stdout",
     "output_type": "stream",
     "text": [
      "/content/drive/My Drive/person_detection/keras-retinanet\n",
      "Using TensorFlow backend.\n",
      "2020-04-03 11:29:23.188330: W tensorflow/stream_executor/platform/default/dso_loader.cc:55] Could not load dynamic library 'libnvinfer.so.6'; dlerror: libnvinfer.so.6: cannot open shared object file: No such file or directory; LD_LIBRARY_PATH: /usr/lib64-nvidia\n",
      "2020-04-03 11:29:23.188459: W tensorflow/stream_executor/platform/default/dso_loader.cc:55] Could not load dynamic library 'libnvinfer_plugin.so.6'; dlerror: libnvinfer_plugin.so.6: cannot open shared object file: No such file or directory; LD_LIBRARY_PATH: /usr/lib64-nvidia\n",
      "2020-04-03 11:29:23.188480: W tensorflow/compiler/tf2tensorrt/utils/py_utils.cc:30] Cannot dlopen some TensorRT libraries. If you would like to use Nvidia GPU with TensorRT, please make sure the missing libraries mentioned above are installed properly.\n",
      "/\n"
     ]
    }
   ],
   "source": [
    "%cd /content/drive/My Drive/person_detection/keras-retinanet\n",
    "!python keras_retinanet/bin/debug.py --annotations \\\n",
    "                                     --anchors \\\n",
    "                                     --no-gui \\\n",
    "                                     csv annot_train.csv classes.csv\n",
    "%cd ../../../../.."
   ]
  },
  {
   "cell_type": "markdown",
   "metadata": {
    "colab_type": "text",
    "id": "F5VvYnzrdc2k"
   },
   "source": [
    "### Anchor Optimization"
   ]
  },
  {
   "cell_type": "code",
   "execution_count": null,
   "metadata": {
    "colab": {},
    "colab_type": "code",
    "id": "9gHzgY2kxk9G"
   },
   "outputs": [],
   "source": [
    "%cd /content/drive/My Drive/person_detection\n",
    "!git clone https://github.com/martinzlocha/anchor-optimization.git\n",
    "%cd anchor-optimization\n",
    "!pip install .\n",
    "!python setup.py build_ext --inplace"
   ]
  },
  {
   "cell_type": "code",
   "execution_count": null,
   "metadata": {
    "colab": {},
    "colab_type": "code",
    "id": "TK9l1MUuenkr"
   },
   "outputs": [],
   "source": [
    "!python ./../anchor-optimization/optimize_anchors.py annot_train.csv\n"
   ]
  },
  {
   "cell_type": "markdown",
   "metadata": {
    "colab_type": "text",
    "id": "MVZOCeiyxZX3"
   },
   "source": [
    "## Functions\n"
   ]
  },
  {
   "cell_type": "code",
   "execution_count": null,
   "metadata": {
    "colab": {},
    "colab_type": "code",
    "id": "BfRvTatDxVrh"
   },
   "outputs": [],
   "source": [
    "# Generate the classes csv file\n",
    "with open(annotations, newline='', mode='x') as csvfile:\n",
    "  csv_writer = csv.writer(csvfile, delimiter=',')\n",
    "  for filename in os.listdir(images_path)[0:10]:\n",
    "    if str(filename + '.txt') in annot:\n",
    "      f = open(annot_path + '/' +  filename + '.txt', 'r')\n",
    "      \n",
    "      for index, line in enumerate(f): \n",
    "        if index == 0: \n",
    "          if line.strip() == '0':\n",
    "            print('Not any  object in the image!')\n",
    "          continue\n",
    "          \n",
    "        else: \n",
    "          split_line = line[:line.find('/')].split(' ')\n",
    "          first_char = split_line.pop(0)\n",
    "          split_line.insert(len(split_line), first_char)\n",
    "          split_line.insert(0, images_path + '/' + filename)\n",
    "          #convert from index to class label \n",
    "          try:\n",
    "            split_line[-1] = classes_ids[int(split_line[-1])]\n",
    "          except: \n",
    "            continue\n",
    "          split_line[0] = split_line[0]\n",
    "\n",
    "          csv_writer.writerow(split_line)\n",
    "      \n",
    "      f.close()\n",
    "\n",
    "#create indexing csv file\n",
    "with open('classes.csv', newline='', mode='x') as csvfile:\n",
    "  csv_writer = csv.writer(csvfile, delimiter=',')\n",
    "  for index, key in enumerate(classes_ids.keys()):\n",
    "    csv_writer.writerow([str(classes_ids[key]), index])\n",
    "\n",
    "\n",
    "#Check for wrongly annotaded bounding boxes\n",
    "path = '/content/drive/My Drive/person_detection/keras-retinanet/annotations.csv'\n",
    "def check_bb(path):\n",
    "  colnames = ['filename', 'x1', 'y1', 'x2', 'y2', 'class_label']\n",
    "  df = pd.read_csv(path, names=colnames)\n",
    "  df_new = df.loc[(df.x1 < df.x2) & (df.y1 < df.y2), : ]\n",
    "  print ('Reduces shape from ', df.shape, 'to ', df_new.shape)\n",
    "  return df_new\n",
    "\n",
    "\n",
    "\n"
   ]
  },
  {
   "cell_type": "code",
   "execution_count": null,
   "metadata": {
    "colab": {
     "base_uri": "https://localhost:8080/",
     "height": 51
    },
    "colab_type": "code",
    "executionInfo": {
     "elapsed": 2798,
     "status": "ok",
     "timestamp": 1585745763095,
     "user": {
      "displayName": "horst hammer",
      "photoUrl": "",
      "userId": "16387219538505432860"
     },
     "user_tz": -120
    },
    "id": "SroNj-Q1xWmu",
    "outputId": "7c34fd48-fca3-4fc1-e992-fab7de56fc21"
   },
   "outputs": [
    {
     "name": "stderr",
     "output_type": "stream",
     "text": [
      "/usr/local/lib/python3.6/dist-packages/IPython/core/interactiveshell.py:2828: DtypeWarning: Columns (2,3,4,5) have mixed types.Specify dtype option on import or set low_memory=False.\n",
      "  if self.run_code(code, result):\n"
     ]
    }
   ],
   "source": [
    "def replace_annoation_folder(new_folder, annot_path, old_img_path):\n",
    "  '''Start this function from folder root, otherwise wont work properly'''\n",
    "\n",
    "  df_annot = pd.read_csv(annot_path + '/annotations_pathkeras.csv',\n",
    "                         names=['name', 'x1', 'y1', 'x2', 'y2', 'label'])\n",
    "  df_annot = df_annot.reset_index().drop(0).drop(columns='index')\n",
    "  df_annot['name'] = df_annot['name'].str.replace(old_img_path, new_folder)\n",
    "  df_annot = df_annot.dropna()\n",
    "  df_annot.to_csv(annot_path + '/annotations_new.csv',\n",
    "                  index=None, header=None)\n",
    "  return\n",
    "\n",
    "\n",
    "old_folder = '/content/drive/My Drive/PersonDetection/WiderPerson/Images'\n",
    "new_folder = '/content/drive/My Drive/person_detection/WiderPerson/Images'\n",
    "annot_path_csv = '/content/drive/My Drive/person_detection/keras-retinanet'\n",
    "replace_annoation_folder(new_folder, annot_path_csv, old_folder)\n"
   ]
  },
  {
   "cell_type": "code",
   "execution_count": null,
   "metadata": {
    "colab": {
     "base_uri": "https://localhost:8080/",
     "height": 34
    },
    "colab_type": "code",
    "executionInfo": {
     "elapsed": 1172,
     "status": "ok",
     "timestamp": 1585745214649,
     "user": {
      "displayName": "horst hammer",
      "photoUrl": "",
      "userId": "16387219538505432860"
     },
     "user_tz": -120
    },
    "id": "sEoBgzKvx1hp",
    "outputId": "a77c6d1c-ebe3-4ead-c0d2-af39258d50a8"
   },
   "outputs": [
    {
     "name": "stdout",
     "output_type": "stream",
     "text": [
      "/content/drive/My Drive/person_detection/WiderPerson/Annotations\n"
     ]
    }
   ],
   "source": [
    "#Splitting into train and test data\n",
    "\n",
    "train_df, test_df = train_test_split(\n",
    "  pd.read_csv(annot_csv_path, header=None), \n",
    "  test_size=0.15, \n",
    "  random_state=RANDOM_SEED\n",
    ")\n",
    "\n",
    "train_df.to_csv(keras_path + '/annot_train.csv', header=None, index=None)\n",
    "test_df.to_csv(keras_path + '/annot_test.csv', header=None, index=None)"
   ]
  }
 ],
 "metadata": {
  "accelerator": "GPU",
  "colab": {
   "authorship_tag": "ABX9TyNZlzJ+KHqmk12vgGb+85oZ",
   "collapsed_sections": [],
   "mount_file_id": "106L4Od8olwZN8yFM8KoWKj0OxIzslyYc",
   "name": "PersonDetection_res50_widerPerson_colab.ipynb",
   "provenance": []
  },
  "kernelspec": {
   "display_name": "Python 3.7.3 64-bit ('tensorflow': conda)",
   "language": "python",
   "name": "python37364bittensorflowconda5709ea6969a74508b87a737b8ddbd4d8"
  },
  "language_info": {
   "codemirror_mode": {
    "name": "ipython",
    "version": 3
   },
   "file_extension": ".py",
   "mimetype": "text/x-python",
   "name": "python",
   "nbconvert_exporter": "python",
   "pygments_lexer": "ipython3",
   "version": "3.7.3"
  }
 },
 "nbformat": 4,
 "nbformat_minor": 4
}
